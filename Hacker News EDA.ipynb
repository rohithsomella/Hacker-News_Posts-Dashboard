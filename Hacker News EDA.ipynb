{
  "nbformat": 4,
  "nbformat_minor": 0,
  "metadata": {
    "colab": {
      "provenance": []
    },
    "kernelspec": {
      "name": "python3",
      "display_name": "Python 3"
    },
    "language_info": {
      "name": "python"
    }
  },
  "cells": [
    {
      "cell_type": "code",
      "source": [
        "import pandas as pd\n",
        "import numpy as np\n"
      ],
      "metadata": {
        "id": "ceSvFQIzIQp4"
      },
      "execution_count": null,
      "outputs": []
    },
    {
      "cell_type": "code",
      "source": [
        "hacker = pd.read_csv('/content/HN_posts_year_to_Sep_26_2016.csv')"
      ],
      "metadata": {
        "id": "wCmNRYyAIV-r"
      },
      "execution_count": null,
      "outputs": []
    },
    {
      "cell_type": "code",
      "source": [
        "hacker.info()"
      ],
      "metadata": {
        "colab": {
          "base_uri": "https://localhost:8080/"
        },
        "id": "rHc3ByDpIcWV",
        "outputId": "90102f3d-5d9b-4510-a3e5-c53a3a0476ab"
      },
      "execution_count": null,
      "outputs": [
        {
          "output_type": "stream",
          "name": "stdout",
          "text": [
            "<class 'pandas.core.frame.DataFrame'>\n",
            "RangeIndex: 293119 entries, 0 to 293118\n",
            "Data columns (total 7 columns):\n",
            " #   Column        Non-Null Count   Dtype \n",
            "---  ------        --------------   ----- \n",
            " 0   id            293119 non-null  int64 \n",
            " 1   title         293119 non-null  object\n",
            " 2   url           279256 non-null  object\n",
            " 3   num_points    293119 non-null  int64 \n",
            " 4   num_comments  293119 non-null  int64 \n",
            " 5   author        293119 non-null  object\n",
            " 6   created_at    293119 non-null  object\n",
            "dtypes: int64(3), object(4)\n",
            "memory usage: 15.7+ MB\n"
          ]
        }
      ]
    },
    {
      "cell_type": "code",
      "source": [
        "hacker.describe()"
      ],
      "metadata": {
        "colab": {
          "base_uri": "https://localhost:8080/",
          "height": 300
        },
        "id": "8VqACNC8IgQs",
        "outputId": "840792c5-bf5c-40cd-dabc-8eb9224f3d25"
      },
      "execution_count": null,
      "outputs": [
        {
          "output_type": "execute_result",
          "data": {
            "text/plain": [
              "                 id     num_points   num_comments\n",
              "count  2.931190e+05  293119.000000  293119.000000\n",
              "mean   1.133046e+07      15.025324       6.525544\n",
              "std    6.961055e+05      58.504103      30.376319\n",
              "min    1.017690e+07       1.000000       0.000000\n",
              "25%    1.071636e+07       1.000000       0.000000\n",
              "50%    1.130303e+07       2.000000       0.000000\n",
              "75%    1.193152e+07       4.000000       1.000000\n",
              "max    1.257901e+07    5771.000000    2531.000000"
            ],
            "text/html": [
              "\n",
              "  <div id=\"df-11f1ed86-4c22-4b0f-8fd7-1d67a426fdf7\">\n",
              "    <div class=\"colab-df-container\">\n",
              "      <div>\n",
              "<style scoped>\n",
              "    .dataframe tbody tr th:only-of-type {\n",
              "        vertical-align: middle;\n",
              "    }\n",
              "\n",
              "    .dataframe tbody tr th {\n",
              "        vertical-align: top;\n",
              "    }\n",
              "\n",
              "    .dataframe thead th {\n",
              "        text-align: right;\n",
              "    }\n",
              "</style>\n",
              "<table border=\"1\" class=\"dataframe\">\n",
              "  <thead>\n",
              "    <tr style=\"text-align: right;\">\n",
              "      <th></th>\n",
              "      <th>id</th>\n",
              "      <th>num_points</th>\n",
              "      <th>num_comments</th>\n",
              "    </tr>\n",
              "  </thead>\n",
              "  <tbody>\n",
              "    <tr>\n",
              "      <th>count</th>\n",
              "      <td>2.931190e+05</td>\n",
              "      <td>293119.000000</td>\n",
              "      <td>293119.000000</td>\n",
              "    </tr>\n",
              "    <tr>\n",
              "      <th>mean</th>\n",
              "      <td>1.133046e+07</td>\n",
              "      <td>15.025324</td>\n",
              "      <td>6.525544</td>\n",
              "    </tr>\n",
              "    <tr>\n",
              "      <th>std</th>\n",
              "      <td>6.961055e+05</td>\n",
              "      <td>58.504103</td>\n",
              "      <td>30.376319</td>\n",
              "    </tr>\n",
              "    <tr>\n",
              "      <th>min</th>\n",
              "      <td>1.017690e+07</td>\n",
              "      <td>1.000000</td>\n",
              "      <td>0.000000</td>\n",
              "    </tr>\n",
              "    <tr>\n",
              "      <th>25%</th>\n",
              "      <td>1.071636e+07</td>\n",
              "      <td>1.000000</td>\n",
              "      <td>0.000000</td>\n",
              "    </tr>\n",
              "    <tr>\n",
              "      <th>50%</th>\n",
              "      <td>1.130303e+07</td>\n",
              "      <td>2.000000</td>\n",
              "      <td>0.000000</td>\n",
              "    </tr>\n",
              "    <tr>\n",
              "      <th>75%</th>\n",
              "      <td>1.193152e+07</td>\n",
              "      <td>4.000000</td>\n",
              "      <td>1.000000</td>\n",
              "    </tr>\n",
              "    <tr>\n",
              "      <th>max</th>\n",
              "      <td>1.257901e+07</td>\n",
              "      <td>5771.000000</td>\n",
              "      <td>2531.000000</td>\n",
              "    </tr>\n",
              "  </tbody>\n",
              "</table>\n",
              "</div>\n",
              "      <button class=\"colab-df-convert\" onclick=\"convertToInteractive('df-11f1ed86-4c22-4b0f-8fd7-1d67a426fdf7')\"\n",
              "              title=\"Convert this dataframe to an interactive table.\"\n",
              "              style=\"display:none;\">\n",
              "        \n",
              "  <svg xmlns=\"http://www.w3.org/2000/svg\" height=\"24px\"viewBox=\"0 0 24 24\"\n",
              "       width=\"24px\">\n",
              "    <path d=\"M0 0h24v24H0V0z\" fill=\"none\"/>\n",
              "    <path d=\"M18.56 5.44l.94 2.06.94-2.06 2.06-.94-2.06-.94-.94-2.06-.94 2.06-2.06.94zm-11 1L8.5 8.5l.94-2.06 2.06-.94-2.06-.94L8.5 2.5l-.94 2.06-2.06.94zm10 10l.94 2.06.94-2.06 2.06-.94-2.06-.94-.94-2.06-.94 2.06-2.06.94z\"/><path d=\"M17.41 7.96l-1.37-1.37c-.4-.4-.92-.59-1.43-.59-.52 0-1.04.2-1.43.59L10.3 9.45l-7.72 7.72c-.78.78-.78 2.05 0 2.83L4 21.41c.39.39.9.59 1.41.59.51 0 1.02-.2 1.41-.59l7.78-7.78 2.81-2.81c.8-.78.8-2.07 0-2.86zM5.41 20L4 18.59l7.72-7.72 1.47 1.35L5.41 20z\"/>\n",
              "  </svg>\n",
              "      </button>\n",
              "      \n",
              "  <style>\n",
              "    .colab-df-container {\n",
              "      display:flex;\n",
              "      flex-wrap:wrap;\n",
              "      gap: 12px;\n",
              "    }\n",
              "\n",
              "    .colab-df-convert {\n",
              "      background-color: #E8F0FE;\n",
              "      border: none;\n",
              "      border-radius: 50%;\n",
              "      cursor: pointer;\n",
              "      display: none;\n",
              "      fill: #1967D2;\n",
              "      height: 32px;\n",
              "      padding: 0 0 0 0;\n",
              "      width: 32px;\n",
              "    }\n",
              "\n",
              "    .colab-df-convert:hover {\n",
              "      background-color: #E2EBFA;\n",
              "      box-shadow: 0px 1px 2px rgba(60, 64, 67, 0.3), 0px 1px 3px 1px rgba(60, 64, 67, 0.15);\n",
              "      fill: #174EA6;\n",
              "    }\n",
              "\n",
              "    [theme=dark] .colab-df-convert {\n",
              "      background-color: #3B4455;\n",
              "      fill: #D2E3FC;\n",
              "    }\n",
              "\n",
              "    [theme=dark] .colab-df-convert:hover {\n",
              "      background-color: #434B5C;\n",
              "      box-shadow: 0px 1px 3px 1px rgba(0, 0, 0, 0.15);\n",
              "      filter: drop-shadow(0px 1px 2px rgba(0, 0, 0, 0.3));\n",
              "      fill: #FFFFFF;\n",
              "    }\n",
              "  </style>\n",
              "\n",
              "      <script>\n",
              "        const buttonEl =\n",
              "          document.querySelector('#df-11f1ed86-4c22-4b0f-8fd7-1d67a426fdf7 button.colab-df-convert');\n",
              "        buttonEl.style.display =\n",
              "          google.colab.kernel.accessAllowed ? 'block' : 'none';\n",
              "\n",
              "        async function convertToInteractive(key) {\n",
              "          const element = document.querySelector('#df-11f1ed86-4c22-4b0f-8fd7-1d67a426fdf7');\n",
              "          const dataTable =\n",
              "            await google.colab.kernel.invokeFunction('convertToInteractive',\n",
              "                                                     [key], {});\n",
              "          if (!dataTable) return;\n",
              "\n",
              "          const docLinkHtml = 'Like what you see? Visit the ' +\n",
              "            '<a target=\"_blank\" href=https://colab.research.google.com/notebooks/data_table.ipynb>data table notebook</a>'\n",
              "            + ' to learn more about interactive tables.';\n",
              "          element.innerHTML = '';\n",
              "          dataTable['output_type'] = 'display_data';\n",
              "          await google.colab.output.renderOutput(dataTable, element);\n",
              "          const docLink = document.createElement('div');\n",
              "          docLink.innerHTML = docLinkHtml;\n",
              "          element.appendChild(docLink);\n",
              "        }\n",
              "      </script>\n",
              "    </div>\n",
              "  </div>\n",
              "  "
            ]
          },
          "metadata": {},
          "execution_count": 4
        }
      ]
    },
    {
      "cell_type": "code",
      "source": [
        "hacker['time'] = pd.to_datetime(hacker['created_at']).dt.time\n"
      ],
      "metadata": {
        "id": "ObGu76pAIl1s"
      },
      "execution_count": null,
      "outputs": []
    },
    {
      "cell_type": "code",
      "source": [
        "hacker['date'] = pd.to_datetime(hacker['created_at']).dt.date\n"
      ],
      "metadata": {
        "id": "WdSIOlQ1LKHx"
      },
      "execution_count": null,
      "outputs": []
    },
    {
      "cell_type": "code",
      "source": [
        "hacker.isnull().sum()"
      ],
      "metadata": {
        "colab": {
          "base_uri": "https://localhost:8080/"
        },
        "id": "f9kNrjZlLo_Q",
        "outputId": "2015a51a-bed7-4f18-da1d-82878bec347e"
      },
      "execution_count": null,
      "outputs": [
        {
          "output_type": "execute_result",
          "data": {
            "text/plain": [
              "id                  0\n",
              "title               0\n",
              "url             13863\n",
              "num_points          0\n",
              "num_comments        0\n",
              "author              0\n",
              "created_at          0\n",
              "time                0\n",
              "day                 0\n",
              "dtype: int64"
            ]
          },
          "metadata": {},
          "execution_count": 12
        }
      ]
    },
    {
      "cell_type": "code",
      "source": [
        "hacker.head()"
      ],
      "metadata": {
        "colab": {
          "base_uri": "https://localhost:8080/",
          "height": 565
        },
        "id": "_29bHZCpNZmu",
        "outputId": "66525f35-ba55-4758-c660-f96e810866f8"
      },
      "execution_count": null,
      "outputs": [
        {
          "output_type": "execute_result",
          "data": {
            "text/plain": [
              "         id                                              title  \\\n",
              "0  12579008  You have two days to comment if you want stem ...   \n",
              "1  12579005                         SQLAR  the SQLite Archiver   \n",
              "2  12578997  What if we just printed a flatscreen televisio...   \n",
              "3  12578989                                  algorithmic music   \n",
              "4  12578979  How the Data Vault Enables the Next-Gen Data W...   \n",
              "\n",
              "                                                 url  num_points  \\\n",
              "0  http://www.regulations.gov/document?D=FDA-2015...           1   \n",
              "1   https://www.sqlite.org/sqlar/doc/trunk/README.md           1   \n",
              "2  https://medium.com/vanmoof/our-secrets-out-f21...           1   \n",
              "3  http://cacm.acm.org/magazines/2011/7/109891-al...           1   \n",
              "4  https://www.talend.com/blog/2016/05/12/talend-...           1   \n",
              "\n",
              "   num_comments        author      created_at      time        date  \n",
              "0             0       altstar  9/26/2016 3:26  03:26:00  2016-09-26  \n",
              "1             0      blacksqr  9/26/2016 3:24  03:24:00  2016-09-26  \n",
              "2             0  pavel_lishin  9/26/2016 3:19  03:19:00  2016-09-26  \n",
              "3             0  poindontcare  9/26/2016 3:16  03:16:00  2016-09-26  \n",
              "4             0   markgainor1  9/26/2016 3:14  03:14:00  2016-09-26  "
            ],
            "text/html": [
              "\n",
              "  <div id=\"df-f5d8b4db-a549-4a82-a64d-b5b5af729cc7\">\n",
              "    <div class=\"colab-df-container\">\n",
              "      <div>\n",
              "<style scoped>\n",
              "    .dataframe tbody tr th:only-of-type {\n",
              "        vertical-align: middle;\n",
              "    }\n",
              "\n",
              "    .dataframe tbody tr th {\n",
              "        vertical-align: top;\n",
              "    }\n",
              "\n",
              "    .dataframe thead th {\n",
              "        text-align: right;\n",
              "    }\n",
              "</style>\n",
              "<table border=\"1\" class=\"dataframe\">\n",
              "  <thead>\n",
              "    <tr style=\"text-align: right;\">\n",
              "      <th></th>\n",
              "      <th>id</th>\n",
              "      <th>title</th>\n",
              "      <th>url</th>\n",
              "      <th>num_points</th>\n",
              "      <th>num_comments</th>\n",
              "      <th>author</th>\n",
              "      <th>created_at</th>\n",
              "      <th>time</th>\n",
              "      <th>date</th>\n",
              "    </tr>\n",
              "  </thead>\n",
              "  <tbody>\n",
              "    <tr>\n",
              "      <th>0</th>\n",
              "      <td>12579008</td>\n",
              "      <td>You have two days to comment if you want stem ...</td>\n",
              "      <td>http://www.regulations.gov/document?D=FDA-2015...</td>\n",
              "      <td>1</td>\n",
              "      <td>0</td>\n",
              "      <td>altstar</td>\n",
              "      <td>9/26/2016 3:26</td>\n",
              "      <td>03:26:00</td>\n",
              "      <td>2016-09-26</td>\n",
              "    </tr>\n",
              "    <tr>\n",
              "      <th>1</th>\n",
              "      <td>12579005</td>\n",
              "      <td>SQLAR  the SQLite Archiver</td>\n",
              "      <td>https://www.sqlite.org/sqlar/doc/trunk/README.md</td>\n",
              "      <td>1</td>\n",
              "      <td>0</td>\n",
              "      <td>blacksqr</td>\n",
              "      <td>9/26/2016 3:24</td>\n",
              "      <td>03:24:00</td>\n",
              "      <td>2016-09-26</td>\n",
              "    </tr>\n",
              "    <tr>\n",
              "      <th>2</th>\n",
              "      <td>12578997</td>\n",
              "      <td>What if we just printed a flatscreen televisio...</td>\n",
              "      <td>https://medium.com/vanmoof/our-secrets-out-f21...</td>\n",
              "      <td>1</td>\n",
              "      <td>0</td>\n",
              "      <td>pavel_lishin</td>\n",
              "      <td>9/26/2016 3:19</td>\n",
              "      <td>03:19:00</td>\n",
              "      <td>2016-09-26</td>\n",
              "    </tr>\n",
              "    <tr>\n",
              "      <th>3</th>\n",
              "      <td>12578989</td>\n",
              "      <td>algorithmic music</td>\n",
              "      <td>http://cacm.acm.org/magazines/2011/7/109891-al...</td>\n",
              "      <td>1</td>\n",
              "      <td>0</td>\n",
              "      <td>poindontcare</td>\n",
              "      <td>9/26/2016 3:16</td>\n",
              "      <td>03:16:00</td>\n",
              "      <td>2016-09-26</td>\n",
              "    </tr>\n",
              "    <tr>\n",
              "      <th>4</th>\n",
              "      <td>12578979</td>\n",
              "      <td>How the Data Vault Enables the Next-Gen Data W...</td>\n",
              "      <td>https://www.talend.com/blog/2016/05/12/talend-...</td>\n",
              "      <td>1</td>\n",
              "      <td>0</td>\n",
              "      <td>markgainor1</td>\n",
              "      <td>9/26/2016 3:14</td>\n",
              "      <td>03:14:00</td>\n",
              "      <td>2016-09-26</td>\n",
              "    </tr>\n",
              "  </tbody>\n",
              "</table>\n",
              "</div>\n",
              "      <button class=\"colab-df-convert\" onclick=\"convertToInteractive('df-f5d8b4db-a549-4a82-a64d-b5b5af729cc7')\"\n",
              "              title=\"Convert this dataframe to an interactive table.\"\n",
              "              style=\"display:none;\">\n",
              "        \n",
              "  <svg xmlns=\"http://www.w3.org/2000/svg\" height=\"24px\"viewBox=\"0 0 24 24\"\n",
              "       width=\"24px\">\n",
              "    <path d=\"M0 0h24v24H0V0z\" fill=\"none\"/>\n",
              "    <path d=\"M18.56 5.44l.94 2.06.94-2.06 2.06-.94-2.06-.94-.94-2.06-.94 2.06-2.06.94zm-11 1L8.5 8.5l.94-2.06 2.06-.94-2.06-.94L8.5 2.5l-.94 2.06-2.06.94zm10 10l.94 2.06.94-2.06 2.06-.94-2.06-.94-.94-2.06-.94 2.06-2.06.94z\"/><path d=\"M17.41 7.96l-1.37-1.37c-.4-.4-.92-.59-1.43-.59-.52 0-1.04.2-1.43.59L10.3 9.45l-7.72 7.72c-.78.78-.78 2.05 0 2.83L4 21.41c.39.39.9.59 1.41.59.51 0 1.02-.2 1.41-.59l7.78-7.78 2.81-2.81c.8-.78.8-2.07 0-2.86zM5.41 20L4 18.59l7.72-7.72 1.47 1.35L5.41 20z\"/>\n",
              "  </svg>\n",
              "      </button>\n",
              "      \n",
              "  <style>\n",
              "    .colab-df-container {\n",
              "      display:flex;\n",
              "      flex-wrap:wrap;\n",
              "      gap: 12px;\n",
              "    }\n",
              "\n",
              "    .colab-df-convert {\n",
              "      background-color: #E8F0FE;\n",
              "      border: none;\n",
              "      border-radius: 50%;\n",
              "      cursor: pointer;\n",
              "      display: none;\n",
              "      fill: #1967D2;\n",
              "      height: 32px;\n",
              "      padding: 0 0 0 0;\n",
              "      width: 32px;\n",
              "    }\n",
              "\n",
              "    .colab-df-convert:hover {\n",
              "      background-color: #E2EBFA;\n",
              "      box-shadow: 0px 1px 2px rgba(60, 64, 67, 0.3), 0px 1px 3px 1px rgba(60, 64, 67, 0.15);\n",
              "      fill: #174EA6;\n",
              "    }\n",
              "\n",
              "    [theme=dark] .colab-df-convert {\n",
              "      background-color: #3B4455;\n",
              "      fill: #D2E3FC;\n",
              "    }\n",
              "\n",
              "    [theme=dark] .colab-df-convert:hover {\n",
              "      background-color: #434B5C;\n",
              "      box-shadow: 0px 1px 3px 1px rgba(0, 0, 0, 0.15);\n",
              "      filter: drop-shadow(0px 1px 2px rgba(0, 0, 0, 0.3));\n",
              "      fill: #FFFFFF;\n",
              "    }\n",
              "  </style>\n",
              "\n",
              "      <script>\n",
              "        const buttonEl =\n",
              "          document.querySelector('#df-f5d8b4db-a549-4a82-a64d-b5b5af729cc7 button.colab-df-convert');\n",
              "        buttonEl.style.display =\n",
              "          google.colab.kernel.accessAllowed ? 'block' : 'none';\n",
              "\n",
              "        async function convertToInteractive(key) {\n",
              "          const element = document.querySelector('#df-f5d8b4db-a549-4a82-a64d-b5b5af729cc7');\n",
              "          const dataTable =\n",
              "            await google.colab.kernel.invokeFunction('convertToInteractive',\n",
              "                                                     [key], {});\n",
              "          if (!dataTable) return;\n",
              "\n",
              "          const docLinkHtml = 'Like what you see? Visit the ' +\n",
              "            '<a target=\"_blank\" href=https://colab.research.google.com/notebooks/data_table.ipynb>data table notebook</a>'\n",
              "            + ' to learn more about interactive tables.';\n",
              "          element.innerHTML = '';\n",
              "          dataTable['output_type'] = 'display_data';\n",
              "          await google.colab.output.renderOutput(dataTable, element);\n",
              "          const docLink = document.createElement('div');\n",
              "          docLink.innerHTML = docLinkHtml;\n",
              "          element.appendChild(docLink);\n",
              "        }\n",
              "      </script>\n",
              "    </div>\n",
              "  </div>\n",
              "  "
            ]
          },
          "metadata": {},
          "execution_count": 20
        }
      ]
    },
    {
      "cell_type": "code",
      "source": [
        "# hacker = hacker.drop('day', axis = 1)"
      ],
      "metadata": {
        "id": "k0Hbi_BvNtek"
      },
      "execution_count": null,
      "outputs": []
    },
    {
      "cell_type": "code",
      "source": [
        "hacker.to_csv('/content/hacker.csv', index=False)"
      ],
      "metadata": {
        "id": "aifv_VQUL7Im"
      },
      "execution_count": null,
      "outputs": []
    },
    {
      "cell_type": "markdown",
      "source": [
        "##**EDA**"
      ],
      "metadata": {
        "id": "TjGixcoHQXpO"
      }
    },
    {
      "cell_type": "code",
      "source": [
        "\n",
        "\n",
        "# Assuming your dataset is stored in a DataFrame named 'hacker'\n",
        "\n",
        "# Find the maximum number of comments\n",
        "max_comments = np.max(hacker['num_comments'])\n",
        "\n",
        "# Select the time where comments are equal to the maximum\n",
        "result = hacker.loc[hacker['num_comments'] == max_comments, 'created_at']\n",
        "\n",
        "# Print the result\n",
        "print(result)\n",
        "print()\n",
        "print(max_comments)"
      ],
      "metadata": {
        "colab": {
          "base_uri": "https://localhost:8080/"
        },
        "id": "pwdE63ZxQWZg",
        "outputId": "57c662b9-b2e7-4e90-e3dd-5751ddb420d3"
      },
      "execution_count": null,
      "outputs": [
        {
          "output_type": "stream",
          "name": "stdout",
          "text": [
            "69169    6/24/2016 3:48\n",
            "Name: created_at, dtype: object\n",
            "\n",
            "2531\n"
          ]
        }
      ]
    },
    {
      "cell_type": "code",
      "source": [
        "hacker_news = hacker.fillna('-')"
      ],
      "metadata": {
        "id": "9tJ22AfRVH2d"
      },
      "execution_count": null,
      "outputs": []
    },
    {
      "cell_type": "code",
      "source": [
        "hacker_news.to_csv('/content/hacker_news.csv', index=False)"
      ],
      "metadata": {
        "id": "51j8Kz7pVR0X"
      },
      "execution_count": null,
      "outputs": []
    }
  ]
}